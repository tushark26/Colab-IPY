{
  "nbformat": 4,
  "nbformat_minor": 0,
  "metadata": {
    "colab": {
      "name": "Untitled2.ipynb",
      "provenance": [],
      "authorship_tag": "ABX9TyPgFTbWcMAfbR2gbDOoOczf",
      "include_colab_link": true
    },
    "kernelspec": {
      "name": "python3",
      "display_name": "Python 3"
    }
  },
  "cells": [
    {
      "cell_type": "markdown",
      "metadata": {
        "id": "view-in-github",
        "colab_type": "text"
      },
      "source": [
        "<a href=\"https://colab.research.google.com/github/tushark26/Colab-IPY/blob/master/Is%20it%20BST.ipynb\" target=\"_parent\"><img src=\"https://colab.research.google.com/assets/colab-badge.svg\" alt=\"Open In Colab\"/></a>"
      ]
    },
    {
      "cell_type": "code",
      "metadata": {
        "id": "M11U4VXbA5IE",
        "outputId": "787494d4-0c5c-40da-b6b2-024dccc84665",
        "colab": {
          "base_uri": "https://localhost:8080/",
          "height": 35
        }
      },
      "source": [
        "\n",
        "class TreeNode():\n",
        "    def __init__(self, val=None, left_ptr=None, right_ptr=None):\n",
        "        self.val = val\n",
        "        self.left_ptr = left_ptr\n",
        "        self.right_ptr = right_ptr\n",
        "\n",
        "\n",
        "def isBST(root):\n",
        "    inorder = float('-inf')\n",
        "    stack = []\n",
        "\n",
        "\n",
        "    while root or stack:\n",
        "        while root:\n",
        "            stack.append(root)\n",
        "            root = root.left_ptr\n",
        "        root = stack.pop()\n",
        "        if root.val < inorder:\n",
        "            return False\n",
        "        inorder = root.val\n",
        "        root = root.right_ptr\n",
        "    return True\n",
        "\n",
        "\n",
        "\n",
        "\n",
        "\n",
        "\n",
        "root = TreeNode(200)\n",
        "root.left_ptr = TreeNode(200)\n",
        "root.left_ptr.right_ptr = TreeNode(300)\n",
        "root.left_ptr.right_ptr.left_ptr = TreeNode(400)\n",
        "\n",
        "\n",
        "isBST(root)\n"
      ],
      "execution_count": 2,
      "outputs": [
        {
          "output_type": "execute_result",
          "data": {
            "text/plain": [
              "False"
            ]
          },
          "metadata": {
            "tags": []
          },
          "execution_count": 2
        }
      ]
    }
  ]
}